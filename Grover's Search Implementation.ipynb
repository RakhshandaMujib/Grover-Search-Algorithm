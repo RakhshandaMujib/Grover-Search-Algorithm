{
 "cells": [
  {
   "cell_type": "code",
   "execution_count": 1,
   "metadata": {},
   "outputs": [],
   "source": [
    "import numpy as np\n",
    "# Importing standard Qiskit libraries:\n",
    "from qiskit import QuantumCircuit, transpile, Aer, IBMQ, execute\n",
    "from qiskit.tools.jupyter import *\n",
    "from qiskit.visualization import *\n",
    "from qiskit.providers.ibmq import least_busy"
   ]
  },
  {
   "cell_type": "code",
   "execution_count": 2,
   "metadata": {},
   "outputs": [],
   "source": [
    "def phase_oracle(n, indices_to_mark, name = 'Oracle'):\n",
    "    '''\n",
    "    Brief: \n",
    "        Generates the orcale matrix to flip the phase of the marked elements. \n",
    "        Transforms the matrix to the corresponding unitary gate. In practicality,\n",
    "        the phase of the winning state(s) get(s) flipped.\n",
    "    Parameters:\n",
    "        n = Integer. Number of qubits.\n",
    "        indices_to_mark = List of intergs representing the indices of winning \n",
    "            elements to search for.\n",
    "        name = Name of the QuantumCircuit object returned.\n",
    "    Returns: \n",
    "        qc = QuantumCircuit object. Has the oracle gate as an element of a circuit.\n",
    "    '''\n",
    "    qc = QuantumCircuit(n, name = name) #Initialize a quantum circuit with n qubits.\n",
    "    oracle_matrix = np.identity(2**n) #Get an identity matrix of n^2 dimension.\n",
    "    for index_to_mark in indices_to_mark: #For each key in the list of keys...\n",
    "        oracle_matrix[index_to_mark, index_to_mark] = -1 #flip the sign of the key.\n",
    "    qc.unitary(oracle_matrix, range(n)) #Apply the matrix to the circuit as a unitary gate\n",
    "                                        #with range of qubits being [0, ..., n-1].\n",
    "    return qc"
   ]
  },
  {
   "cell_type": "code",
   "execution_count": 3,
   "metadata": {},
   "outputs": [],
   "source": [
    "def diffuser(n, name = 'Diffuser'):\n",
    "    '''\n",
    "    Brief: \n",
    "        Prepares the diffuser circuit and generates the matrix to flip the state 0.\n",
    "        Physically, the diffuser amplifies the amplitudes of the winning states.\n",
    "    Parameters: \n",
    "        n = Integer. Number of qubits.\n",
    "    Returns:\n",
    "        qc = QuantumCircuit object. Diffuser circuit.\n",
    "    '''\n",
    "    qc = QuantumCircuit(n, name = name) #Initialize a quantum circuit with n qubits.\n",
    "    qc.h(range(n)) #Prepare the state |s> = H|0>.\n",
    "    diffuser_matrix = phase_oracle(n, [0]) #Generate the diffuser matrix.\n",
    "    qc.append(diffuser_matrix, range(n)) #Apply the diffuser matrix=> V|s>. \n",
    "    qc.h(range(n)) #Apply the H gate to the cicuit=> HV|s>.\n",
    "    return qc "
   ]
  },
  {
   "cell_type": "code",
   "execution_count": 4,
   "metadata": {},
   "outputs": [],
   "source": [
    " def groverSearch(n, marked):\n",
    "    '''\n",
    "    Brief: \n",
    "        Prpares the entire circuit for the Grover's search algorithm. Searches for \n",
    "        the marked elements in the range (0, ..., 2^(n-1)).\n",
    "    Parameters: \n",
    "        n = Integer. Number of qubits.\n",
    "        marked = List of keys.\n",
    "    Returns:\n",
    "        qc = QuantumCircuit object. Final Grover's search circuit.\n",
    "    '''\n",
    "    qc = QuantumCircuit(n, n) #Initialize a quantum circuit with n qubits and classical bits.\n",
    "    M = len(marked) #Say, we have M marked element.\n",
    "    N = 2 ** n #Total number of elements that can be represented with n qubits.\n",
    "    theta = np.arcsin(np.sqrt(M/N)) #Get the angle of rotation.\n",
    "    rounds = int(np.round(np.pi / (2 * theta))- (1 / 2)) #Get the number of rounds needed.\n",
    "    \n",
    "    #Print the information:\n",
    "    print(f\"Number of qubits: {n}\")\n",
    "    print(f\"Key(s) to search: {marked}\")\n",
    "    print(f\"Number of rounds needed: {rounds}\") \n",
    "    \n",
    "    qc.h(range(n)) #Step 1: Prepare the superposition states of each qubit.\n",
    "    \n",
    "    for _ in range(rounds): #For all the rounds...\n",
    "        qc.append(phase_oracle(n, marked), range(n)) #Step 2: Apply the phase oracle.\n",
    "        qc.append(diffuser(n), range(n)) #Step 3: Apply the diffuser.\n",
    "    qc.measure(range(n), range(n)) #Final step: Measure the qubits.\n",
    "    return qc"
   ]
  },
  {
   "cell_type": "code",
   "execution_count": 10,
   "metadata": {},
   "outputs": [
    {
     "name": "stdout",
     "output_type": "stream",
     "text": [
      "Enter the number of qubits:4\n",
      "Enter the elements:\n",
      "2 6\n",
      "Number of qubits: 4\n",
      "Key(s) to search: [2, 6]\n",
      "Number of rounds needed: 3\n"
     ]
    }
   ],
   "source": [
    "n = int(input(\"Enter the number of qubits:\"))\n",
    "marked = list(map(int, input('Enter the elements:\\n').split()))\n",
    "qc = groverSearch(n, marked)"
   ]
  },
  {
   "cell_type": "code",
   "execution_count": 11,
   "metadata": {},
   "outputs": [
    {
     "data": {
      "text/html": [
       "<pre style=\"word-wrap: normal;white-space: pre;background: #fff0;line-height: 1.1;font-family: &quot;Courier New&quot;,Courier,monospace\">     ┌───┐┌─────────┐┌───────────┐┌─────────┐┌───────────┐┌─────────┐»\n",
       "q_0: ┤ H ├┤0        ├┤0          ├┤0        ├┤0          ├┤0        ├»\n",
       "     ├───┤│         ││           ││         ││           ││         │»\n",
       "q_1: ┤ H ├┤1        ├┤1          ├┤1        ├┤1          ├┤1        ├»\n",
       "     ├───┤│  Oracle ││  Diffuser ││  Oracle ││  Diffuser ││  Oracle │»\n",
       "q_2: ┤ H ├┤2        ├┤2          ├┤2        ├┤2          ├┤2        ├»\n",
       "     ├───┤│         ││           ││         ││           ││         │»\n",
       "q_3: ┤ H ├┤3        ├┤3          ├┤3        ├┤3          ├┤3        ├»\n",
       "     └───┘└─────────┘└───────────┘└─────────┘└───────────┘└─────────┘»\n",
       "c: 4/════════════════════════════════════════════════════════════════»\n",
       "                                                                     »\n",
       "«     ┌───────────┐┌─┐         \n",
       "«q_0: ┤0          ├┤M├─────────\n",
       "«     │           │└╥┘┌─┐      \n",
       "«q_1: ┤1          ├─╫─┤M├──────\n",
       "«     │  Diffuser │ ║ └╥┘┌─┐   \n",
       "«q_2: ┤2          ├─╫──╫─┤M├───\n",
       "«     │           │ ║  ║ └╥┘┌─┐\n",
       "«q_3: ┤3          ├─╫──╫──╫─┤M├\n",
       "«     └───────────┘ ║  ║  ║ └╥┘\n",
       "«c: 4/══════════════╩══╩══╩══╩═\n",
       "«                   0  1  2  3 </pre>"
      ],
      "text/plain": [
       "     ┌───┐┌─────────┐┌───────────┐┌─────────┐┌───────────┐┌─────────┐»\n",
       "q_0: ┤ H ├┤0        ├┤0          ├┤0        ├┤0          ├┤0        ├»\n",
       "     ├───┤│         ││           ││         ││           ││         │»\n",
       "q_1: ┤ H ├┤1        ├┤1          ├┤1        ├┤1          ├┤1        ├»\n",
       "     ├───┤│  Oracle ││  Diffuser ││  Oracle ││  Diffuser ││  Oracle │»\n",
       "q_2: ┤ H ├┤2        ├┤2          ├┤2        ├┤2          ├┤2        ├»\n",
       "     ├───┤│         ││           ││         ││           ││         │»\n",
       "q_3: ┤ H ├┤3        ├┤3          ├┤3        ├┤3          ├┤3        ├»\n",
       "     └───┘└─────────┘└───────────┘└─────────┘└───────────┘└─────────┘»\n",
       "c: 4/════════════════════════════════════════════════════════════════»\n",
       "                                                                     »\n",
       "«     ┌───────────┐┌─┐         \n",
       "«q_0: ┤0          ├┤M├─────────\n",
       "«     │           │└╥┘┌─┐      \n",
       "«q_1: ┤1          ├─╫─┤M├──────\n",
       "«     │  Diffuser │ ║ └╥┘┌─┐   \n",
       "«q_2: ┤2          ├─╫──╫─┤M├───\n",
       "«     │           │ ║  ║ └╥┘┌─┐\n",
       "«q_3: ┤3          ├─╫──╫──╫─┤M├\n",
       "«     └───────────┘ ║  ║  ║ └╥┘\n",
       "«c: 4/══════════════╩══╩══╩══╩═\n",
       "«                   0  1  2  3 "
      ]
     },
     "execution_count": 11,
     "metadata": {},
     "output_type": "execute_result"
    }
   ],
   "source": [
    "qc.draw()"
   ]
  },
  {
   "cell_type": "code",
   "execution_count": 12,
   "metadata": {},
   "outputs": [],
   "source": [
    "#Run it in the simulator:\n",
    "backend = Aer.get_backend('qasm_simulator')\n",
    "result = execute(qc, backend, shots = 8192).result()\n",
    "counts = result.get_counts(qc)"
   ]
  },
  {
   "cell_type": "code",
   "execution_count": 13,
   "metadata": {},
   "outputs": [
    {
     "name": "stdout",
     "output_type": "stream",
     "text": [
      "{'1010': 371, '1001': 373, '1110': 398, '1011': 417, '0010': 1335, '1111': 355, '0110': 1384, '0111': 442, '0001': 393, '1100': 388, '1101': 372, '1000': 383, '0101': 385, '0011': 372, '0000': 424, '0100': 400}\n"
     ]
    },
    {
     "data": {
      "image/png": "[encoded data removed]",
      "text/plain": [
       "<Figure size 504x360 with 1 Axes>"
      ]
     },
     "execution_count": 13,
     "metadata": {},
     "output_type": "execute_result"
    }
   ],
   "source": [
    "#Print the results:\n",
    "print(counts)\n",
    "plot_histogram(counts)"
   ]
  },
  {
   "cell_type": "code",
   "execution_count": null,
   "metadata": {},
   "outputs": [],
   "source": []
  }
 ],
 "metadata": {
  "kernelspec": {
   "display_name": "Python 3",
   "language": "python",
   "name": "python3"
  },
  "language_info": {
   "codemirror_mode": {
    "name": "ipython",
    "version": 3
   },
   "file_extension": ".py",
   "mimetype": "text/x-python",
   "name": "python",
   "nbconvert_exporter": "python",
   "pygments_lexer": "ipython3",
   "version": "3.8.3"
  }
 },
 "nbformat": 4,
 "nbformat_minor": 4
}
